{
  "nbformat": 4,
  "nbformat_minor": 0,
  "metadata": {
    "colab": {
      "provenance": []
    },
    "kernelspec": {
      "name": "python3",
      "display_name": "Python 3"
    },
    "language_info": {
      "name": "python"
    }
  },
  "cells": [
    {
      "cell_type": "code",
      "execution_count": null,
      "metadata": {
        "id": "dXNsfeH2d_5z"
      },
      "outputs": [],
      "source": [
        "import pandas as pd\n",
        "import os"
      ]
    },
    {
      "cell_type": "code",
      "source": [
        "df = pd.read_csv('olist_orders_dataset.csv')\n",
        "print(df.head())\n"
      ],
      "metadata": {
        "colab": {
          "base_uri": "https://localhost:8080/"
        },
        "id": "yFTG4CpTeHSZ",
        "outputId": "89e08c26-a7e6-4a82-d89b-2b437a9fa4b0"
      },
      "execution_count": null,
      "outputs": [
        {
          "output_type": "stream",
          "name": "stdout",
          "text": [
            "                           order_id                       customer_id  \\\n",
            "0  e481f51cbdc54678b7cc49136f2d6af7  9ef432eb6251297304e76186b10a928d   \n",
            "1  53cdb2fc8bc7dce0b6741e2150273451  b0830fb4747a6c6d20dea0b8c802d7ef   \n",
            "2  47770eb9100c2d0c44946d9cf07ec65d  41ce2a54c0b03bf3443c3d931a367089   \n",
            "3  949d5b44dbf5de918fe9c16f97b45f8a  f88197465ea7920adcdbec7375364d82   \n",
            "4  ad21c59c0840e6cb83a9ceb5573f8159  8ab97904e6daea8866dbdbc4fb7aad2c   \n",
            "\n",
            "  order_status order_purchase_timestamp    order_approved_at  \\\n",
            "0    delivered      2017-10-02 10:56:33  2017-10-02 11:07:15   \n",
            "1    delivered      2018-07-24 20:41:37  2018-07-26 03:24:27   \n",
            "2    delivered      2018-08-08 08:38:49  2018-08-08 08:55:23   \n",
            "3    delivered      2017-11-18 19:28:06  2017-11-18 19:45:59   \n",
            "4    delivered      2018-02-13 21:18:39  2018-02-13 22:20:29   \n",
            "\n",
            "  order_delivered_carrier_date order_delivered_customer_date  \\\n",
            "0          2017-10-04 19:55:00           2017-10-10 21:25:13   \n",
            "1          2018-07-26 14:31:00           2018-08-07 15:27:45   \n",
            "2          2018-08-08 13:50:00           2018-08-17 18:06:29   \n",
            "3          2017-11-22 13:39:59           2017-12-02 00:28:42   \n",
            "4          2018-02-14 19:46:34           2018-02-16 18:17:02   \n",
            "\n",
            "  order_estimated_delivery_date  \n",
            "0           2017-10-18 00:00:00  \n",
            "1           2018-08-13 00:00:00  \n",
            "2           2018-09-04 00:00:00  \n",
            "3           2017-12-15 00:00:00  \n",
            "4           2018-02-26 00:00:00  \n"
          ]
        }
      ]
    },
    {
      "cell_type": "code",
      "source": [
        "df = df.dropna(subset=['order_id', 'customer_id', 'order_status'])"
      ],
      "metadata": {
        "id": "7DNqy44Lej0x"
      },
      "execution_count": null,
      "outputs": []
    },
    {
      "cell_type": "code",
      "source": [
        "# 4. Converter colunas de data\n",
        "df['order_purchase_timestamp'] = pd.to_datetime(df['order_purchase_timestamp'])"
      ],
      "metadata": {
        "id": "fuqLEKTweoMv"
      },
      "execution_count": null,
      "outputs": []
    },
    {
      "cell_type": "code",
      "source": [
        "# 5. Criar a pasta 'dados_tratados' se não existir\n",
        "os.makedirs('dados_tratados', exist_ok=True)"
      ],
      "metadata": {
        "id": "CNNyvhR6hcst"
      },
      "execution_count": null,
      "outputs": []
    },
    {
      "cell_type": "code",
      "source": [
        "# 6. Salvar arquivo tratado\n",
        "df.to_csv('dados_tratados/olist_orders_tratado.csv', index=False)\n",
        "print(\"✅ Arquivo tratado salvo com sucesso!\")"
      ],
      "metadata": {
        "colab": {
          "base_uri": "https://localhost:8080/"
        },
        "id": "aI4ZQficpjRE",
        "outputId": "746ad21c-4c48-40fb-b8c7-c24305d14099"
      },
      "execution_count": null,
      "outputs": [
        {
          "output_type": "stream",
          "name": "stdout",
          "text": [
            "✅ Arquivo tratado salvo com sucesso!\n"
          ]
        }
      ]
    },
    {
      "cell_type": "markdown",
      "source": [
        "# Tratamento olist_customers_dataset\n",
        "\n"
      ],
      "metadata": {
        "id": "o31HPfN6fokK"
      }
    },
    {
      "cell_type": "code",
      "source": [
        "df_clientes = pd.read_csv(\"olist_customers_dataset.csv\")"
      ],
      "metadata": {
        "id": "k4CaIZEspqVK"
      },
      "execution_count": null,
      "outputs": []
    },
    {
      "cell_type": "code",
      "source": [
        "dim_cliente = df_clientes[[\n",
        "    \"customer_id\",\n",
        "    \"customer_unique_id\",\n",
        "    \"customer_city\",\n",
        "    \"customer_state\"\n",
        "]].drop_duplicates()"
      ],
      "metadata": {
        "id": "EEB9kTqwgRqv"
      },
      "execution_count": null,
      "outputs": []
    },
    {
      "cell_type": "code",
      "source": [
        "os.makedirs(\"dimensoes\", exist_ok=True)\n",
        "dim_cliente.to_csv(\"dimensoes/dim_cliente.csv\", index=False)"
      ],
      "metadata": {
        "id": "rsK2glZKgXs5"
      },
      "execution_count": null,
      "outputs": []
    },
    {
      "cell_type": "markdown",
      "source": [
        "# Tratamento olist_products_dataset"
      ],
      "metadata": {
        "id": "psi6K_73gcCw"
      }
    },
    {
      "cell_type": "code",
      "source": [
        "df_prod = pd.read_csv(\"olist_products_dataset.csv\")"
      ],
      "metadata": {
        "id": "at7S_SF37baO"
      },
      "execution_count": null,
      "outputs": []
    },
    {
      "cell_type": "code",
      "source": [
        "df_cat = pd.read_csv(\"product_category_name_translation.csv\")"
      ],
      "metadata": {
        "id": "SB5HaHm97qh_"
      },
      "execution_count": null,
      "outputs": []
    },
    {
      "cell_type": "code",
      "source": [
        "dim_produto = df_prod.merge(df_cat, how=\"left\", on=\"product_category_name\")\n",
        "dim_produto = dim_produto[[\n",
        "    \"product_id\",\n",
        "    \"product_category_name\",\n",
        "    \"product_category_name_english\",\n",
        "    \"product_name_lenght\",\n",
        "    \"product_description_lenght\",\n",
        "    \"product_weight_g\"\n",
        "]].drop_duplicates()"
      ],
      "metadata": {
        "id": "3L5yeNTg7vVA"
      },
      "execution_count": null,
      "outputs": []
    },
    {
      "cell_type": "code",
      "source": [
        "os.makedirs(\"dimensoes\", exist_ok=True)\n",
        "dim_produto.to_csv(\"dimensoes/dim_produto.csv\", index=False)"
      ],
      "metadata": {
        "id": "93Lz57Kf7y6S"
      },
      "execution_count": null,
      "outputs": []
    },
    {
      "cell_type": "markdown",
      "source": [
        "# Tratamento olist_sellers_dataset"
      ],
      "metadata": {
        "id": "B8aa_Z7MgMY7"
      }
    },
    {
      "cell_type": "code",
      "source": [
        "df_sellers = pd.read_csv(\"olist_sellers_dataset.csv\")"
      ],
      "metadata": {
        "id": "MiVtVFf08K2D"
      },
      "execution_count": null,
      "outputs": []
    },
    {
      "cell_type": "code",
      "source": [
        "dim_vendedor = df_sellers[[\n",
        "    \"seller_id\",\n",
        "    \"seller_city\",\n",
        "    \"seller_state\"\n",
        "]].drop_duplicates()"
      ],
      "metadata": {
        "id": "K-A5v__o8Ped"
      },
      "execution_count": null,
      "outputs": []
    },
    {
      "cell_type": "code",
      "source": [
        "os.makedirs(\"dimensoes\", exist_ok=True)"
      ],
      "metadata": {
        "id": "Zq6ht6Kt8bXo"
      },
      "execution_count": null,
      "outputs": []
    },
    {
      "cell_type": "code",
      "source": [
        "dim_vendedor.to_csv(\"dimensoes/dim_vendedor.csv\", index=False)\n"
      ],
      "metadata": {
        "id": "t4abIeiA8dSD"
      },
      "execution_count": null,
      "outputs": []
    },
    {
      "cell_type": "markdown",
      "source": [
        "# Tratamento olist_orders_dataset"
      ],
      "metadata": {
        "id": "1yyWkJuM95UB"
      }
    },
    {
      "cell_type": "code",
      "source": [
        "df_orders = pd.read_csv(\"olist_orders_dataset.csv\")\n"
      ],
      "metadata": {
        "id": "nNeEtfbw8ePC"
      },
      "execution_count": null,
      "outputs": []
    },
    {
      "cell_type": "code",
      "source": [
        "dim_tempo = df_orders[[\"order_purchase_timestamp\"]].dropna().drop_duplicates()\n",
        "dim_tempo[\"data\"] = pd.to_datetime(dim_tempo[\"order_purchase_timestamp\"]).dt.date\n",
        "dim_tempo[\"ano\"] = pd.to_datetime(dim_tempo[\"order_purchase_timestamp\"]).dt.year\n",
        "dim_tempo[\"mes\"] = pd.to_datetime(dim_tempo[\"order_purchase_timestamp\"]).dt.month\n",
        "dim_tempo[\"dia\"] = pd.to_datetime(dim_tempo[\"order_purchase_timestamp\"]).dt.day\n",
        "dim_tempo[\"dia_semana\"] = pd.to_datetime(dim_tempo[\"order_purchase_timestamp\"]).dt.day_name()\n",
        "dim_tempo[\"trimestre\"] = pd.to_datetime(dim_tempo[\"order_purchase_timestamp\"]).dt.quarter\n"
      ],
      "metadata": {
        "id": "rfXHrt15-EFW"
      },
      "execution_count": null,
      "outputs": []
    },
    {
      "cell_type": "code",
      "source": [
        "dim_tempo = dim_tempo.drop(columns=[\"order_purchase_timestamp\"]).drop_duplicates()\n"
      ],
      "metadata": {
        "id": "3gBpRtR3-Jmf"
      },
      "execution_count": null,
      "outputs": []
    },
    {
      "cell_type": "code",
      "source": [
        "os.makedirs(\"dimensoes\", exist_ok=True)\n",
        "dim_tempo.to_csv(\"dimensoes/dim_tempo.csv\", index=False)"
      ],
      "metadata": {
        "id": "JNi80vI6-Jzm"
      },
      "execution_count": null,
      "outputs": []
    },
    {
      "cell_type": "markdown",
      "source": [
        "# etl_fato_vendas"
      ],
      "metadata": {
        "id": "03mTkRni-bnu"
      }
    },
    {
      "cell_type": "code",
      "source": [
        "df_items = pd.read_csv(\"olist_order_items_dataset.csv\")"
      ],
      "metadata": {
        "id": "9FG6UfKk-Wxs"
      },
      "execution_count": null,
      "outputs": []
    },
    {
      "cell_type": "code",
      "source": [
        "df_orders = pd.read_csv(\"olist_orders_dataset.csv\")"
      ],
      "metadata": {
        "id": "jCcnnwwe-eaq"
      },
      "execution_count": null,
      "outputs": []
    },
    {
      "cell_type": "code",
      "source": [
        "df_payments = pd.read_csv(\"olist_order_payments_dataset.csv\")"
      ],
      "metadata": {
        "id": "jdEn35CP-gzZ"
      },
      "execution_count": null,
      "outputs": []
    },
    {
      "cell_type": "code",
      "source": [
        "df_reviews = pd.read_csv(\"olist_order_reviews_dataset.csv\")"
      ],
      "metadata": {
        "id": "FDpPYRHC-iNf"
      },
      "execution_count": null,
      "outputs": []
    },
    {
      "cell_type": "code",
      "source": [
        "# Join principal: order_items + orders\n",
        "fato_vendas = df_items.merge(df_orders, on=\"order_id\", how=\"left\")"
      ],
      "metadata": {
        "id": "s0czCVcY-kZu"
      },
      "execution_count": null,
      "outputs": []
    },
    {
      "cell_type": "code",
      "source": [
        "# Pagamentos: usar apenas um tipo por pedido\n",
        "df_pagamentos_unicos = df_payments.drop_duplicates(subset=[\"order_id\"])\n",
        "fato_vendas = fato_vendas.merge(df_pagamentos_unicos, on=\"order_id\", how=\"left\")\n"
      ],
      "metadata": {
        "id": "Hxr-qMdf-oKe"
      },
      "execution_count": null,
      "outputs": []
    },
    {
      "cell_type": "code",
      "source": [
        "# Reviews: nota da avaliação\n",
        "df_reviews_simples = df_reviews[[\"order_id\", \"review_score\"]].drop_duplicates()\n",
        "fato_vendas = fato_vendas.merge(df_reviews_simples, on=\"order_id\", how=\"left\")\n"
      ],
      "metadata": {
        "id": "UVkMsjy4-qh0"
      },
      "execution_count": null,
      "outputs": []
    },
    {
      "cell_type": "code",
      "source": [
        "# Seleciona colunas da fato\n",
        "fato_vendas = fato_vendas[[\n",
        "    \"order_id\",\n",
        "    \"order_item_id\",\n",
        "    \"product_id\",\n",
        "    \"seller_id\",\n",
        "    \"price\",\n",
        "    \"freight_value\",\n",
        "    \"payment_type\",\n",
        "    \"payment_value\",\n",
        "    \"review_score\",\n",
        "    \"order_purchase_timestamp\",\n",
        "    \"order_delivered_customer_date\"\n",
        "]]"
      ],
      "metadata": {
        "id": "nYRjjL64-tWe"
      },
      "execution_count": null,
      "outputs": []
    },
    {
      "cell_type": "code",
      "source": [
        "# Apenas salve diretamente, sem tentar criar a pasta\n",
        "fato_vendas.to_csv(\"/content/fato_vendas.csv\", index=False)\n"
      ],
      "metadata": {
        "id": "IRNfns9A-vd_"
      },
      "execution_count": null,
      "outputs": []
    },
    {
      "cell_type": "code",
      "source": [
        "# Salva o arquivo dentro de /content (que é o diretório atual do Colab)\n",
        "fato_vendas.to_csv(\"fato_vendas.csv\", index=False)\n",
        "\n",
        "# Faz o download para sua máquina\n",
        "from google.colab import files\n",
        "files.download(\"fato_vendas.csv\")\n"
      ],
      "metadata": {
        "id": "2aOaeSWYB48m",
        "colab": {
          "base_uri": "https://localhost:8080/",
          "height": 17
        },
        "outputId": "ef62ad57-46a1-4f9c-a2eb-75100aa645e3"
      },
      "execution_count": null,
      "outputs": [
        {
          "output_type": "display_data",
          "data": {
            "text/plain": [
              "<IPython.core.display.Javascript object>"
            ],
            "application/javascript": [
              "\n",
              "    async function download(id, filename, size) {\n",
              "      if (!google.colab.kernel.accessAllowed) {\n",
              "        return;\n",
              "      }\n",
              "      const div = document.createElement('div');\n",
              "      const label = document.createElement('label');\n",
              "      label.textContent = `Downloading \"${filename}\": `;\n",
              "      div.appendChild(label);\n",
              "      const progress = document.createElement('progress');\n",
              "      progress.max = size;\n",
              "      div.appendChild(progress);\n",
              "      document.body.appendChild(div);\n",
              "\n",
              "      const buffers = [];\n",
              "      let downloaded = 0;\n",
              "\n",
              "      const channel = await google.colab.kernel.comms.open(id);\n",
              "      // Send a message to notify the kernel that we're ready.\n",
              "      channel.send({})\n",
              "\n",
              "      for await (const message of channel.messages) {\n",
              "        // Send a message to notify the kernel that we're ready.\n",
              "        channel.send({})\n",
              "        if (message.buffers) {\n",
              "          for (const buffer of message.buffers) {\n",
              "            buffers.push(buffer);\n",
              "            downloaded += buffer.byteLength;\n",
              "            progress.value = downloaded;\n",
              "          }\n",
              "        }\n",
              "      }\n",
              "      const blob = new Blob(buffers, {type: 'application/binary'});\n",
              "      const a = document.createElement('a');\n",
              "      a.href = window.URL.createObjectURL(blob);\n",
              "      a.download = filename;\n",
              "      div.appendChild(a);\n",
              "      a.click();\n",
              "      div.remove();\n",
              "    }\n",
              "  "
            ]
          },
          "metadata": {}
        },
        {
          "output_type": "display_data",
          "data": {
            "text/plain": [
              "<IPython.core.display.Javascript object>"
            ],
            "application/javascript": [
              "download(\"download_29a85e01-562e-4e58-854b-5b1bd984b236\", \"fato_vendas.csv\", 19559493)"
            ]
          },
          "metadata": {}
        }
      ]
    },
    {
      "cell_type": "code",
      "source": [],
      "metadata": {
        "id": "oSkhEAzn_CYS"
      },
      "execution_count": null,
      "outputs": []
    },
    {
      "cell_type": "code",
      "source": [],
      "metadata": {
        "id": "NmX4-njAQuai"
      },
      "execution_count": null,
      "outputs": []
    },
    {
      "cell_type": "code",
      "source": [],
      "metadata": {
        "id": "WBMB8OD9QwLQ"
      },
      "execution_count": null,
      "outputs": []
    },
    {
      "cell_type": "code",
      "source": [],
      "metadata": {
        "id": "bMeL6W1VQzUP"
      },
      "execution_count": null,
      "outputs": []
    },
    {
      "cell_type": "code",
      "source": [],
      "metadata": {
        "id": "w9jnMtT7Q7YI"
      },
      "execution_count": null,
      "outputs": []
    },
    {
      "cell_type": "code",
      "source": [],
      "metadata": {
        "colab": {
          "base_uri": "https://localhost:8080/"
        },
        "id": "NxBAWYUbQ-Ab",
        "outputId": "646298eb-a0e9-49f6-857f-7c53215d6f57"
      },
      "execution_count": null,
      "outputs": [
        {
          "output_type": "stream",
          "name": "stdout",
          "text": [
            "📤 Importando 'dim_cliente.csv' para a tabela 'dim_cliente'...\n",
            "📤 Importando 'dim_produto.csv' para a tabela 'dim_produto'...\n",
            "📤 Importando 'dim_vendedor.csv' para a tabela 'dim_vendedor'...\n",
            "📤 Importando 'dim_tempo.csv' para a tabela 'dim_tempo'...\n"
          ]
        }
      ]
    },
    {
      "cell_type": "code",
      "source": [],
      "metadata": {
        "id": "v3ALx2dSQ_gg"
      },
      "execution_count": null,
      "outputs": []
    },
    {
      "cell_type": "code",
      "source": [],
      "metadata": {
        "colab": {
          "base_uri": "https://localhost:8080/"
        },
        "id": "Vh6_Ab6XRFzX",
        "outputId": "69b4af7d-4409-4fc5-de08-3569feb02f76"
      },
      "execution_count": null,
      "outputs": [
        {
          "output_type": "execute_result",
          "data": {
            "text/plain": [
              "634"
            ]
          },
          "metadata": {},
          "execution_count": 45
        }
      ]
    },
    {
      "cell_type": "code",
      "source": [],
      "metadata": {
        "colab": {
          "base_uri": "https://localhost:8080/"
        },
        "id": "YcYD1huURNYJ",
        "outputId": "3dc28b40-ccf7-48d5-b94b-92362a2bdda8"
      },
      "execution_count": null,
      "outputs": [
        {
          "output_type": "stream",
          "name": "stdout",
          "text": [
            "✅ Tabela 'dim_tempo' populada com sucesso!\n",
            "\n",
            "🏁 Todas as dimensões foram importadas para o banco.\n"
          ]
        }
      ]
    }
  ]
}